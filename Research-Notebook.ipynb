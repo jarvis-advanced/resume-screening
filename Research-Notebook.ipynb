{
 "cells": [
  {
   "cell_type": "code",
   "execution_count": 1,
   "metadata": {},
   "outputs": [],
   "source": [
    "# Library Import\n",
    "import os\n",
    "import glob\n",
    "import warnings\n",
    "import textract\n",
    "import requests\n",
    "from gensim.summarization import summarize\n",
    "import PyPDF2\n",
    "\n",
    "from sklearn.feature_extraction.text import CountVectorizer,TfidfVectorizer\n",
    "from sklearn.neighbors import NearestNeighbors\n",
    " "
   ]
  },
  {
   "cell_type": "code",
   "execution_count": 2,
   "metadata": {},
   "outputs": [],
   "source": [
    "file_pdf = []\n",
    "# file_doc = []\n",
    "# file_docx = []\n",
    "\n",
    "for file in glob.glob('resume/*.pdf',recursive=True):\n",
    "    file_pdf.append(file)\n",
    "    \n",
    "# for file in glob.glob('resume/*.doc',recursive=True):\n",
    "#     file_doc.append(file)\n",
    "    \n",
    "# for file in glob.glob('resume/*.docx',recursive=True):\n",
    "#     file_docx.append(file)"
   ]
  },
  {
   "cell_type": "code",
   "execution_count": 3,
   "metadata": {},
   "outputs": [
    {
     "name": "stdout",
     "output_type": "stream",
     "text": [
      "['resume/Resume.pdf', 'resume/res.pdf', 'resume/Xander_Erwina Lau_Finance Compliance Executive.pdf', 'resume/Resume --Rohini Prakash.pdf']\n"
     ]
    }
   ],
   "source": [
    "print(file_pdf)\n",
    "# print(file_doc)\n",
    "# print(file_docx)"
   ]
  },
  {
   "cell_type": "code",
   "execution_count": 4,
   "metadata": {},
   "outputs": [],
   "source": [
    "class ResultElement:\n",
    "    def __init__(self, rank, filename):\n",
    "        self.rank = rank\n",
    "        self.filename = filename"
   ]
  },
  {
   "cell_type": "code",
   "execution_count": 5,
   "metadata": {},
   "outputs": [],
   "source": [
    "def getfilepath(loc):\n",
    "    temp = str(loc)\n",
    "    temp = temp.replace('\\\\', '/')\n",
    "    return temp"
   ]
  },
  {
   "cell_type": "code",
   "execution_count": 6,
   "metadata": {},
   "outputs": [],
   "source": [
    "resumes = []\n",
    "resume_vector = []\n",
    "Temp_pdf = []\n",
    "order_list_resume = []\n",
    "order_list_resume_score = []"
   ]
  },
  {
   "cell_type": "code",
   "execution_count": 7,
   "metadata": {},
   "outputs": [],
   "source": [
    "list_of_files = file_pdf "
   ]
  },
  {
   "cell_type": "code",
   "execution_count": 8,
   "metadata": {},
   "outputs": [
    {
     "name": "stderr",
     "output_type": "stream",
     "text": [
      "PdfReadWarning: Superfluous whitespace found in object header b'1' b'0' [pdf.py:1666]\n",
      "PdfReadWarning: Superfluous whitespace found in object header b'2' b'0' [pdf.py:1666]\n",
      "PdfReadWarning: Superfluous whitespace found in object header b'3' b'0' [pdf.py:1666]\n",
      "PdfReadWarning: Superfluous whitespace found in object header b'39' b'0' [pdf.py:1666]\n",
      "PdfReadWarning: Superfluous whitespace found in object header b'42' b'0' [pdf.py:1666]\n",
      "PdfReadWarning: Superfluous whitespace found in object header b'37' b'0' [pdf.py:1666]\n",
      "PdfReadWarning: Superfluous whitespace found in object header b'40' b'0' [pdf.py:1666]\n",
      "PdfReadWarning: Superfluous whitespace found in object header b'43' b'0' [pdf.py:1666]\n"
     ]
    }
   ],
   "source": [
    "for tmp,i in enumerate(list_of_files):\n",
    "    order_list_resume.append(i)\n",
    "    FMT = i.split(\".\")\n",
    "    if(FMT[1] == \"pdf\" or FMT[1] == \"PDF\" or FMT[1] == \"Pdf\"):\n",
    "        try:\n",
    "            with open(i,'rb') as pdf_file:\n",
    "                read_pdf = PyPDF2.PdfFileReader(pdf_file)\n",
    "                number_pages = read_pdf.getNumPages()\n",
    "#                 print(number_pages)\n",
    "\n",
    "                for page_number in range(number_pages):\n",
    "                    page = read_pdf.getPage(page_number)\n",
    "                    page_content = page.extractText()\n",
    "        \n",
    "                    page_content = page_content.replace('\\n',' ')\n",
    "                    page_content = \" \".join(page_content.split())\n",
    "                    \n",
    "\n",
    "                    Temp_pdf = str(Temp_pdf) + str(page_content)\n",
    "    #                 print(Temp_pdf)\n",
    "\n",
    "\n",
    "                resumes.append([Temp_pdf])\n",
    "                Temp_pdf = ''\n",
    "\n",
    "        except Exception as e:\n",
    "            print(\"Raised error: \",e)\n",
    "            \n",
    "#     if(FMT[1] == \"doc\" or FMT[1] == \"Doc\" or FMT[1] == \"DOC\"):\n",
    "                \n",
    "#         try:\n",
    "#             a = textract.process(i)\n",
    "#             a = a.replace(b'\\n',  b' ')\n",
    "#             a = a.replace(b'\\r',  b' ')\n",
    "\n",
    "#             b = str(a)\n",
    "#             c = [b]\n",
    "#             resumes.append([c])\n",
    "#         except Exception as e: print(e)\n",
    "                \n",
    "                \n",
    "#     if(FMT[1] == \"docx\" or FMT[1] == \"Docx\" or FMT[1] == \"DOCX\"):\n",
    "#         try:\n",
    "#             a = textract.process(i)\n",
    "#             a = a.replace(b'\\n',  b' ')\n",
    "#             a = a.replace(b'\\r',  b' ')\n",
    "#             b = str(a)\n",
    "#             c = [b]\n",
    "#             resumes.append([c])\n",
    "#         except Exception as e: print(e)"
   ]
  },
  {
   "cell_type": "code",
   "execution_count": 9,
   "metadata": {},
   "outputs": [
    {
     "data": {
      "text/plain": [
       "[['[]'],\n",
       " [''],\n",
       " [''],\n",
       " ['rohiniprakash1@gmail.com | +65 98624747 | PAGE 1 ROHINI PRAKASH , CA SINGAPORE |+ 65 98624747 | rohiniprakash1 @ gmail . com INVESTOR RELATIONS, FUND STRUCTURING, CONTROLLERSHIP & COMPLIANCE Highly result driven detail oriented professional with experience in Fund management, structuring, investor relations, regulatory compliance, fund raising, deal structuring, valuations & controllership. KEY SKILLS Fund Controller Accounting/ reporting/audits Cross border taxation Compliance/ internal Controls Fund management/ treasury Structures LP/LLC Financial Analysis Fund performance metrics Valuations review Fund management/ treasury Budgeting & cost control Fund Management Fund tax structuring Fund legal documentation Investor meetings Due diligence EXPERIENCE XANDER GROUP , SINGAPORE Nov 2010 till date Emerging market focussed Institutional investment firm backed by the Rothschild Investment Trust and Getty Family, with $2BN AUM primarily invested in real estate, infrastructure, hospitality and retail sectors. VICE PRESIDENT Structured funds & real estate investments , assisted in Fund raising, managed regulatory compliance, valuation , per formance assess ment, treasury, accounting and taxation . Structured cross border Funds, worked with consultants on preparation and review of Fund structures and documentation / setting up of entities / obtaining tax exemptions ( 13 X /13R ) . Structure/ manage investment into underlying investee companies (equity/ debt). Review valuations/ assess performance (member of the Valuation Committee across Funds). Built and managing a team of five personnel for running the operations of 7 Funds with a corpus of `USD 2 billion (including accounting, taxation, investor communication / queries , treasury, compliance , investments/ divestments etc.) . Developed processes and internal controls for financial reporting. Assisted in preparation of pitches/ due diligence documents / track record for fund raising. Attended discussions/ meetings with prospective investors. Screened , identified and transitioned work to third party vendor for automating accounting and reporting process. Currently implementing an in vestor portal completely integrated with the accounting system Initial one year period worked in Asset management responsible for reviewing performance/ making improvements/ tracking of underlying real estate investments COPAL AMBA , DELHI Jan 2010 Oct2010 leading bulge bracket financial institutions, Fortune 100 corporations, investment banks and asset managers. HEAD RISK & COMPLIANCE Set up and managed the risk framework, lead customer audits, assisted in new customer proposals to leading banks. Reviewed, developed, and strengthened the risk framework of the Company across several locations .rohiniprakash1@gmail.com | +65 98624747 | PAGE 2 Set up risk framework, documented policies and trained sta ff at new office premises in Beijing to ensure compliance with service level agreements. Successful in obtaining client approval for commencing operations at the site . Successfully prepared for and front - ended several client audits of leading banks/ cor porations. Worked on relationship building with existing/ potential customers. Attended relationship building meeting with the largest client along with co - founder of Copal. Assisted in preparing pitches and also presented the compliance framework to pr ospective clients. Built and managed the four member Compliance team. Responsible for appraisals/ development of team. Conducted operational reviews to identify cost inefficiencies. Successful in reducing/controlling several operating costs. Built and managed the four member Compliance team. Responsible for appraisals/ development of team. KPMG, DELHI & LONDON Jul 20 02 Oct2009 ASSISTANT MANAGER, ASSURANCE & ADVISORY DIVISION Effectively managed financial statement / internal control/ SOX audits for several large and mid - sized corporations (BBC, Panasonic, Actis, Apax, Dentsu, Canon, Timex, Jubilant, Group 4, CSC, Cadence, Allied, Diageo) M anaged/ supervised simultaneous proje cts including formulation of budget , assigning staff, monitoring progress, managing the teams, presenting and resolving significant issues , debrief meeting with senior management and invoicing. Seconded to the London Private Equity Assurance division. Co nducted the audit of several Private Equity Firms (Apax, Morgan Grenfell). Successfully completed a complex (merger/ demerger) multi - location accounting advisory assignment for GE with an extremely demanding deadline. Instrumental in identifying gaps a nd inefficiencies in the finance function of HCL which helped reduce reporting timelines significantly. Presented the process maps indicating gaps and suggested measures to the CFO and Vice - Presidents heading the various Finance divisions. Seconded to th e Department of Professional Practice and worked on queries received from teams across KPMG locations in India on application of accounting standards and corporate laws. Conducted trainings on the KPMG audit methodology / accounting standards for Executives and Staff Accountants. EDUCATION & QUALIFICATIONS Institute of Chartered Accountants of India New Delhi, India Associate Member Cleared final examination in 1 st attempt Nov 2006 Sriram College of Commerce, Unive rsity of Delhi New Delhi, India Bachelors of Commerce (Honors) - First Division May 2002 D.P.S. R.K. Puram New Delhi, India Commerce scored 90% March 1999 OTHER SKILLS & INTERESTS R eading Travel Gardening']]"
      ]
     },
     "execution_count": 9,
     "metadata": {},
     "output_type": "execute_result"
    }
   ],
   "source": [
    "resumes"
   ]
  },
  {
   "cell_type": "code",
   "execution_count": 10,
   "metadata": {},
   "outputs": [],
   "source": [
    "# Job description file path\n",
    "job_desc = 'job description/job.txt'"
   ]
  },
  {
   "cell_type": "code",
   "execution_count": 11,
   "metadata": {},
   "outputs": [
    {
     "name": "stdout",
     "output_type": "stream",
     "text": [
      "[\"b'UX Designer Responsibilities\\\\xc2\\\\xa0include: \\\\xe2\\\\x80\\\\xa2 Conducting user research and testing \\\\xe2\\\\x80\\\\xa2 Developing wireframes and task flows based on user needs \\\\xe2\\\\x80\\\\xa2 Collaborating with Designers and Developers to create intuitive, user-friendly software Job brief We are looking for a UX Designer to design software and platforms that meet people\\\\xe2\\\\x80\\\\x99s needs.\\nResponsibilities \\\\xe2\\\\x80\\\\xa2 Understand product specifications and user psychology \\\\xe2\\\\x80\\\\xa2 Conduct concept and usability testing and gather feedback \\\\xe2\\\\x80\\\\xa2 Create personas through user research and data \\\\xe2\\\\x80\\\\xa2 Define the right interaction model and evaluate its success \\\\xe2\\\\x80\\\\xa2 Develop wireframes and prototypes around customer needs \\\\xe2\\\\x80\\\\xa2 Find creative ways to solve UX problems (e.g. usability, findability) \\\\xe2\\\\x80\\\\xa2 Work with UI designers to implement attractive designs \\\\xe2\\\\x80\\\\xa2 Communicate design ideas and prototypes to developers \\\\xe2\\\\x80\\\\xa2 Keep abreast of competitor products and industry trends Requirements \\\\xe2\\\\x80\\\\xa2 Proven experience as a UX Designer,\\\\xc2\\\\xa0UI Designer\\\\xc2\\\\xa0or similar role \\\\xe2\\\\x80\\\\xa2 Strong portfolio of design projects \\\\xe2\\\\x80\\\\xa2 Background in project management and research \\\\xe2\\\\x80\\\\xa2 Familiarity with interaction design and information architecture \\\\xe2\\\\x80\\\\xa2 Proficient in design software (e.g. UXPin, Balsamiq) \\\\xe2\\\\x80\\\\xa2 Knowledge of HTML/CSS; JavaScript is a plus \\\\xe2\\\\x80\\\\xa2 Problem-solving aptitude \\\\xe2\\\\x80\\\\xa2 Analytical mind with a business acumen \\\\xe2\\\\x80\\\\xa2 Excellent communication skills \\\\xe2\\\\x80\\\\xa2 BSc in Design, Computer Science, Engineering or a related field '\"]\n"
     ]
    }
   ],
   "source": [
    "with open(job_desc,'rb') as f:\n",
    "    content = f.read()\n",
    "    \n",
    "    try:\n",
    "        transDes = str(content)\n",
    "        transDes = transDes.replace('\\\\n', ' ')\n",
    "        transDes = \" \".join(transDes.split())\n",
    "        transDes = summarize(transDes,word_count=200)\n",
    "        desText = [transDes]\n",
    "        print(desText)\n",
    "        \n",
    "    except:\n",
    "        desText = 'None'\n",
    "        \n",
    "    f.close()"
   ]
  },
  {
   "cell_type": "code",
   "execution_count": 12,
   "metadata": {},
   "outputs": [],
   "source": [
    "vectorizer = TfidfVectorizer(stop_words='english')\n",
    "vectorizer.fit(desText)\n",
    "vectorJob = vectorizer.transform(desText)"
   ]
  },
  {
   "cell_type": "code",
   "execution_count": 13,
   "metadata": {},
   "outputs": [
    {
     "name": "stdout",
     "output_type": "stream",
     "text": [
      "110\n",
      "[[0.02358989 0.02358989 0.02358989 0.02358989 0.02358989 0.02358989\n",
      "  0.02358989 0.02358989 0.02358989 0.02358989 0.02358989 0.02358989\n",
      "  0.02358989 0.02358989 0.02358989 0.02358989 0.02358989 0.02358989\n",
      "  0.02358989 0.02358989 0.04717978 0.02358989 0.02358989 0.02358989\n",
      "  0.02358989 0.02358989 0.14153935 0.09435957 0.04717978 0.02358989\n",
      "  0.02358989 0.04717978 0.02358989 0.02358989 0.02358989 0.02358989\n",
      "  0.02358989 0.02358989 0.02358989 0.02358989 0.02358989 0.02358989\n",
      "  0.02358989 0.02358989 0.02358989 0.02358989 0.02358989 0.02358989\n",
      "  0.02358989 0.04717978 0.02358989 0.02358989 0.02358989 0.02358989\n",
      "  0.02358989 0.02358989 0.02358989 0.02358989 0.02358989 0.07076968\n",
      "  0.02358989 0.02358989 0.02358989 0.02358989 0.02358989 0.02358989\n",
      "  0.02358989 0.02358989 0.02358989 0.02358989 0.02358989 0.02358989\n",
      "  0.04717978 0.02358989 0.02358989 0.02358989 0.02358989 0.07076968\n",
      "  0.04717978 0.02358989 0.02358989 0.02358989 0.02358989 0.02358989\n",
      "  0.07076968 0.02358989 0.02358989 0.02358989 0.02358989 0.02358989\n",
      "  0.02358989 0.04717978 0.02358989 0.02358989 0.02358989 0.04717978\n",
      "  0.11794946 0.09435957 0.02358989 0.02358989 0.04717978 0.02358989\n",
      "  0.54256753 0.02358989 0.02358989 0.02358989 0.02358989 0.51897763\n",
      "  0.07076968 0.54256753]]\n"
     ]
    }
   ],
   "source": [
    "Job_desc_arr = 0\n",
    "Job_desc_arr = vectorJob.toarray()\n",
    "print(len(Job_desc_arr[0]))\n",
    "print(Job_desc_arr)"
   ]
  },
  {
   "cell_type": "code",
   "execution_count": 14,
   "metadata": {},
   "outputs": [
    {
     "name": "stdout",
     "output_type": "stream",
     "text": [
      "['[]'] \n",
      "\n",
      "[''] \n",
      "\n",
      "[''] \n",
      "\n",
      "['rohiniprakash1@gmail.com | +65 98624747 | PAGE 1 ROHINI PRAKASH , CA SINGAPORE |+ 65 98624747 | rohiniprakash1 @ gmail . com INVESTOR RELATIONS, FUND STRUCTURING, CONTROLLERSHIP & COMPLIANCE Highly result driven detail oriented professional with experience in Fund management, structuring, investor relations, regulatory compliance, fund raising, deal structuring, valuations & controllership. KEY SKILLS Fund Controller Accounting/ reporting/audits Cross border taxation Compliance/ internal Controls Fund management/ treasury Structures LP/LLC Financial Analysis Fund performance metrics Valuations review Fund management/ treasury Budgeting & cost control Fund Management Fund tax structuring Fund legal documentation Investor meetings Due diligence EXPERIENCE XANDER GROUP , SINGAPORE Nov 2010 till date Emerging market focussed Institutional investment firm backed by the Rothschild Investment Trust and Getty Family, with $2BN AUM primarily invested in real estate, infrastructure, hospitality and retail sectors. VICE PRESIDENT Structured funds & real estate investments , assisted in Fund raising, managed regulatory compliance, valuation , per formance assess ment, treasury, accounting and taxation . Structured cross border Funds, worked with consultants on preparation and review of Fund structures and documentation / setting up of entities / obtaining tax exemptions ( 13 X /13R ) . Structure/ manage investment into underlying investee companies (equity/ debt). Review valuations/ assess performance (member of the Valuation Committee across Funds). Built and managing a team of five personnel for running the operations of 7 Funds with a corpus of `USD 2 billion (including accounting, taxation, investor communication / queries , treasury, compliance , investments/ divestments etc.) . Developed processes and internal controls for financial reporting. Assisted in preparation of pitches/ due diligence documents / track record for fund raising. Attended discussions/ meetings with prospective investors. Screened , identified and transitioned work to third party vendor for automating accounting and reporting process. Currently implementing an in vestor portal completely integrated with the accounting system Initial one year period worked in Asset management responsible for reviewing performance/ making improvements/ tracking of underlying real estate investments COPAL AMBA , DELHI Jan 2010 Oct2010 leading bulge bracket financial institutions, Fortune 100 corporations, investment banks and asset managers. HEAD RISK & COMPLIANCE Set up and managed the risk framework, lead customer audits, assisted in new customer proposals to leading banks. Reviewed, developed, and strengthened the risk framework of the Company across several locations .rohiniprakash1@gmail.com | +65 98624747 | PAGE 2 Set up risk framework, documented policies and trained sta ff at new office premises in Beijing to ensure compliance with service level agreements. Successful in obtaining client approval for commencing operations at the site . Successfully prepared for and front - ended several client audits of leading banks/ cor porations. Worked on relationship building with existing/ potential customers. Attended relationship building meeting with the largest client along with co - founder of Copal. Assisted in preparing pitches and also presented the compliance framework to pr ospective clients. Built and managed the four member Compliance team. Responsible for appraisals/ development of team. Conducted operational reviews to identify cost inefficiencies. Successful in reducing/controlling several operating costs. Built and managed the four member Compliance team. Responsible for appraisals/ development of team. KPMG, DELHI & LONDON Jul 20 02 Oct2009 ASSISTANT MANAGER, ASSURANCE & ADVISORY DIVISION Effectively managed financial statement / internal control/ SOX audits for several large and mid - sized corporations (BBC, Panasonic, Actis, Apax, Dentsu, Canon, Timex, Jubilant, Group 4, CSC, Cadence, Allied, Diageo) M anaged/ supervised simultaneous proje cts including formulation of budget , assigning staff, monitoring progress, managing the teams, presenting and resolving significant issues , debrief meeting with senior management and invoicing. Seconded to the London Private Equity Assurance division. Co nducted the audit of several Private Equity Firms (Apax, Morgan Grenfell). Successfully completed a complex (merger/ demerger) multi - location accounting advisory assignment for GE with an extremely demanding deadline. Instrumental in identifying gaps a nd inefficiencies in the finance function of HCL which helped reduce reporting timelines significantly. Presented the process maps indicating gaps and suggested measures to the CFO and Vice - Presidents heading the various Finance divisions. Seconded to th e Department of Professional Practice and worked on queries received from teams across KPMG locations in India on application of accounting standards and corporate laws. Conducted trainings on the KPMG audit methodology / accounting standards for Executives and Staff Accountants. EDUCATION & QUALIFICATIONS Institute of Chartered Accountants of India New Delhi, India Associate Member Cleared final examination in 1 st attempt Nov 2006 Sriram College of Commerce, Unive rsity of Delhi New Delhi, India Bachelors of Commerce (Honors) - First Division May 2002 D.P.S. R.K. Puram New Delhi, India Commerce scored 90% March 1999 OTHER SKILLS & INTERESTS R eading Travel Gardening'] \n",
      "\n"
     ]
    }
   ],
   "source": [
    "for i in resumes:\n",
    "    print(i,\"\\n\")"
   ]
  },
  {
   "cell_type": "code",
   "execution_count": 15,
   "metadata": {},
   "outputs": [
    {
     "name": "stdout",
     "output_type": "stream",
     "text": [
      "['[]'] \n",
      "\n",
      "(1, 110)\n",
      "[[0. 0. 0. 0. 0. 0. 0. 0. 0. 0. 0. 0. 0. 0. 0. 0. 0. 0. 0. 0. 0. 0. 0. 0.\n",
      "  0. 0. 0. 0. 0. 0. 0. 0. 0. 0. 0. 0. 0. 0. 0. 0. 0. 0. 0. 0. 0. 0. 0. 0.\n",
      "  0. 0. 0. 0. 0. 0. 0. 0. 0. 0. 0. 0. 0. 0. 0. 0. 0. 0. 0. 0. 0. 0. 0. 0.\n",
      "  0. 0. 0. 0. 0. 0. 0. 0. 0. 0. 0. 0. 0. 0. 0. 0. 0. 0. 0. 0. 0. 0. 0. 0.\n",
      "  0. 0. 0. 0. 0. 0. 0. 0. 0. 0. 0. 0. 0. 0.]]\n",
      "[''] \n",
      "\n",
      "(1, 110)\n",
      "[[0. 0. 0. 0. 0. 0. 0. 0. 0. 0. 0. 0. 0. 0. 0. 0. 0. 0. 0. 0. 0. 0. 0. 0.\n",
      "  0. 0. 0. 0. 0. 0. 0. 0. 0. 0. 0. 0. 0. 0. 0. 0. 0. 0. 0. 0. 0. 0. 0. 0.\n",
      "  0. 0. 0. 0. 0. 0. 0. 0. 0. 0. 0. 0. 0. 0. 0. 0. 0. 0. 0. 0. 0. 0. 0. 0.\n",
      "  0. 0. 0. 0. 0. 0. 0. 0. 0. 0. 0. 0. 0. 0. 0. 0. 0. 0. 0. 0. 0. 0. 0. 0.\n",
      "  0. 0. 0. 0. 0. 0. 0. 0. 0. 0. 0. 0. 0. 0.]]\n",
      "[''] \n",
      "\n",
      "(1, 110)\n",
      "[[0. 0. 0. 0. 0. 0. 0. 0. 0. 0. 0. 0. 0. 0. 0. 0. 0. 0. 0. 0. 0. 0. 0. 0.\n",
      "  0. 0. 0. 0. 0. 0. 0. 0. 0. 0. 0. 0. 0. 0. 0. 0. 0. 0. 0. 0. 0. 0. 0. 0.\n",
      "  0. 0. 0. 0. 0. 0. 0. 0. 0. 0. 0. 0. 0. 0. 0. 0. 0. 0. 0. 0. 0. 0. 0. 0.\n",
      "  0. 0. 0. 0. 0. 0. 0. 0. 0. 0. 0. 0. 0. 0. 0. 0. 0. 0. 0. 0. 0. 0. 0. 0.\n",
      "  0. 0. 0. 0. 0. 0. 0. 0. 0. 0. 0. 0. 0. 0.]]\n",
      "['rohiniprakash1@gmail.com | +65 98624747 | PAGE 1 ROHINI PRAKASH , CA SINGAPORE |+ 65 98624747 | rohiniprakash1 @ gmail . com INVESTOR RELATIONS, FUND STRUCTURING, CONTROLLERSHIP & COMPLIANCE Highly result driven detail oriented professional with experience in Fund management, structuring, investor relations, regulatory compliance, fund raising, deal structuring, valuations & controllership. KEY SKILLS Fund Controller Accounting/ reporting/audits Cross border taxation Compliance/ internal Controls Fund management/ treasury Structures LP/LLC Financial Analysis Fund performance metrics Valuations review Fund management/ treasury Budgeting & cost control Fund Management Fund tax structuring Fund legal documentation Investor meetings Due diligence EXPERIENCE XANDER GROUP , SINGAPORE Nov 2010 till date Emerging market focussed Institutional investment firm backed by the Rothschild Investment Trust and Getty Family, with $2BN AUM primarily invested in real estate, infrastructure, hospitality and retail sectors. VICE PRESIDENT Structured funds & real estate investments , assisted in Fund raising, managed regulatory compliance, valuation , per formance assess ment, treasury, accounting and taxation . Structured cross border Funds, worked with consultants on preparation and review of Fund structures and documentation / setting up of entities / obtaining tax exemptions ( 13 X /13R ) . Structure/ manage investment into underlying investee companies (equity/ debt). Review valuations/ assess performance (member of the Valuation Committee across Funds). Built and managing a team of five personnel for running the operations of 7 Funds with a corpus of `USD 2 billion (including accounting, taxation, investor communication / queries , treasury, compliance , investments/ divestments etc.) . Developed processes and internal controls for financial reporting. Assisted in preparation of pitches/ due diligence documents / track record for fund raising. Attended discussions/ meetings with prospective investors. Screened , identified and transitioned work to third party vendor for automating accounting and reporting process. Currently implementing an in vestor portal completely integrated with the accounting system Initial one year period worked in Asset management responsible for reviewing performance/ making improvements/ tracking of underlying real estate investments COPAL AMBA , DELHI Jan 2010 Oct2010 leading bulge bracket financial institutions, Fortune 100 corporations, investment banks and asset managers. HEAD RISK & COMPLIANCE Set up and managed the risk framework, lead customer audits, assisted in new customer proposals to leading banks. Reviewed, developed, and strengthened the risk framework of the Company across several locations .rohiniprakash1@gmail.com | +65 98624747 | PAGE 2 Set up risk framework, documented policies and trained sta ff at new office premises in Beijing to ensure compliance with service level agreements. Successful in obtaining client approval for commencing operations at the site . Successfully prepared for and front - ended several client audits of leading banks/ cor porations. Worked on relationship building with existing/ potential customers. Attended relationship building meeting with the largest client along with co - founder of Copal. Assisted in preparing pitches and also presented the compliance framework to pr ospective clients. Built and managed the four member Compliance team. Responsible for appraisals/ development of team. Conducted operational reviews to identify cost inefficiencies. Successful in reducing/controlling several operating costs. Built and managed the four member Compliance team. Responsible for appraisals/ development of team. KPMG, DELHI & LONDON Jul 20 02 Oct2009 ASSISTANT MANAGER, ASSURANCE & ADVISORY DIVISION Effectively managed financial statement / internal control/ SOX audits for several large and mid - sized corporations (BBC, Panasonic, Actis, Apax, Dentsu, Canon, Timex, Jubilant, Group 4, CSC, Cadence, Allied, Diageo) M anaged/ supervised simultaneous proje cts including formulation of budget , assigning staff, monitoring progress, managing the teams, presenting and resolving significant issues , debrief meeting with senior management and invoicing. Seconded to the London Private Equity Assurance division. Co nducted the audit of several Private Equity Firms (Apax, Morgan Grenfell). Successfully completed a complex (merger/ demerger) multi - location accounting advisory assignment for GE with an extremely demanding deadline. Instrumental in identifying gaps a nd inefficiencies in the finance function of HCL which helped reduce reporting timelines significantly. Presented the process maps indicating gaps and suggested measures to the CFO and Vice - Presidents heading the various Finance divisions. Seconded to th e Department of Professional Practice and worked on queries received from teams across KPMG locations in India on application of accounting standards and corporate laws. Conducted trainings on the KPMG audit methodology / accounting standards for Executives and Staff Accountants. EDUCATION & QUALIFICATIONS Institute of Chartered Accountants of India New Delhi, India Associate Member Cleared final examination in 1 st attempt Nov 2006 Sriram College of Commerce, Unive rsity of Delhi New Delhi, India Bachelors of Commerce (Honors) - First Division May 2002 D.P.S. R.K. Puram New Delhi, India Commerce scored 90% March 1999 OTHER SKILLS & INTERESTS R eading Travel Gardening'] \n",
      "\n",
      "(1, 110)\n",
      "[[0.         0.         0.         0.         0.         0.\n",
      "  0.         0.         0.         0.         0.         0.\n",
      "  0.         0.         0.         0.         0.         0.\n",
      "  0.         0.         0.         0.         0.         0.\n",
      "  0.         0.         0.         0.         0.         0.\n",
      "  0.         0.         0.         0.         0.         0.\n",
      "  0.23570226 0.         0.         0.         0.         0.\n",
      "  0.         0.         0.         0.         0.         0.\n",
      "  0.         0.         0.         0.         0.         0.\n",
      "  0.         0.94280904 0.         0.         0.         0.\n",
      "  0.         0.         0.         0.         0.         0.\n",
      "  0.         0.         0.         0.         0.         0.\n",
      "  0.         0.         0.         0.         0.         0.\n",
      "  0.         0.         0.         0.         0.         0.23570226\n",
      "  0.         0.         0.         0.         0.         0.\n",
      "  0.         0.         0.         0.         0.         0.\n",
      "  0.         0.         0.         0.         0.         0.\n",
      "  0.         0.         0.         0.         0.         0.\n",
      "  0.         0.        ]]\n"
     ]
    }
   ],
   "source": [
    "# Vectorizing the resumes of applicants\n",
    "for i in resumes:\n",
    "#     print(i,\"\\n\")\n",
    "    resumesText = i\n",
    "    transRes = str(resumesText)\n",
    "    print(resumesText,'\\n')\n",
    "    \n",
    "    try:\n",
    "        transRes = summarize(transRes,word_count=200)\n",
    "        resText = [transRes]\n",
    "#         resText = \" \".join(resText.split())\n",
    "#         vectorizerResume = TfidfVectorizer(stop_words='english')\n",
    "        \n",
    "        \n",
    "#         vectorizerResume.fit(resText)\n",
    "        \n",
    "        vectorResume = vectorizer.transform(resText)\n",
    "        \n",
    "        resume_desc_arr = vectorResume.toarray()\n",
    "        print(resume_desc_arr.shape)\n",
    "        print(resume_desc_arr)\n",
    "        \n",
    "        resume_vector.append([resume_desc_arr])\n",
    "         \n",
    "    except Exception as e:\n",
    "        print(\"Raised error: \",e)"
   ]
  },
  {
   "cell_type": "code",
   "execution_count": 16,
   "metadata": {},
   "outputs": [
    {
     "data": {
      "text/plain": [
       "4"
      ]
     },
     "execution_count": 16,
     "metadata": {},
     "output_type": "execute_result"
    }
   ],
   "source": [
    "len(resume_vector)"
   ]
  },
  {
   "cell_type": "code",
   "execution_count": 17,
   "metadata": {},
   "outputs": [
    {
     "name": "stdout",
     "output_type": "stream",
     "text": [
      "4\n",
      "[array([[0., 0., 0., 0., 0., 0., 0., 0., 0., 0., 0., 0., 0., 0., 0., 0.,\n",
      "        0., 0., 0., 0., 0., 0., 0., 0., 0., 0., 0., 0., 0., 0., 0., 0.,\n",
      "        0., 0., 0., 0., 0., 0., 0., 0., 0., 0., 0., 0., 0., 0., 0., 0.,\n",
      "        0., 0., 0., 0., 0., 0., 0., 0., 0., 0., 0., 0., 0., 0., 0., 0.,\n",
      "        0., 0., 0., 0., 0., 0., 0., 0., 0., 0., 0., 0., 0., 0., 0., 0.,\n",
      "        0., 0., 0., 0., 0., 0., 0., 0., 0., 0., 0., 0., 0., 0., 0., 0.,\n",
      "        0., 0., 0., 0., 0., 0., 0., 0., 0., 0., 0., 0., 0., 0.]])] \n",
      "\n",
      "[array([[0., 0., 0., 0., 0., 0., 0., 0., 0., 0., 0., 0., 0., 0., 0., 0.,\n",
      "        0., 0., 0., 0., 0., 0., 0., 0., 0., 0., 0., 0., 0., 0., 0., 0.,\n",
      "        0., 0., 0., 0., 0., 0., 0., 0., 0., 0., 0., 0., 0., 0., 0., 0.,\n",
      "        0., 0., 0., 0., 0., 0., 0., 0., 0., 0., 0., 0., 0., 0., 0., 0.,\n",
      "        0., 0., 0., 0., 0., 0., 0., 0., 0., 0., 0., 0., 0., 0., 0., 0.,\n",
      "        0., 0., 0., 0., 0., 0., 0., 0., 0., 0., 0., 0., 0., 0., 0., 0.,\n",
      "        0., 0., 0., 0., 0., 0., 0., 0., 0., 0., 0., 0., 0., 0.]])] \n",
      "\n",
      "[array([[0., 0., 0., 0., 0., 0., 0., 0., 0., 0., 0., 0., 0., 0., 0., 0.,\n",
      "        0., 0., 0., 0., 0., 0., 0., 0., 0., 0., 0., 0., 0., 0., 0., 0.,\n",
      "        0., 0., 0., 0., 0., 0., 0., 0., 0., 0., 0., 0., 0., 0., 0., 0.,\n",
      "        0., 0., 0., 0., 0., 0., 0., 0., 0., 0., 0., 0., 0., 0., 0., 0.,\n",
      "        0., 0., 0., 0., 0., 0., 0., 0., 0., 0., 0., 0., 0., 0., 0., 0.,\n",
      "        0., 0., 0., 0., 0., 0., 0., 0., 0., 0., 0., 0., 0., 0., 0., 0.,\n",
      "        0., 0., 0., 0., 0., 0., 0., 0., 0., 0., 0., 0., 0., 0.]])] \n",
      "\n",
      "[array([[0.        , 0.        , 0.        , 0.        , 0.        ,\n",
      "        0.        , 0.        , 0.        , 0.        , 0.        ,\n",
      "        0.        , 0.        , 0.        , 0.        , 0.        ,\n",
      "        0.        , 0.        , 0.        , 0.        , 0.        ,\n",
      "        0.        , 0.        , 0.        , 0.        , 0.        ,\n",
      "        0.        , 0.        , 0.        , 0.        , 0.        ,\n",
      "        0.        , 0.        , 0.        , 0.        , 0.        ,\n",
      "        0.        , 0.23570226, 0.        , 0.        , 0.        ,\n",
      "        0.        , 0.        , 0.        , 0.        , 0.        ,\n",
      "        0.        , 0.        , 0.        , 0.        , 0.        ,\n",
      "        0.        , 0.        , 0.        , 0.        , 0.        ,\n",
      "        0.94280904, 0.        , 0.        , 0.        , 0.        ,\n",
      "        0.        , 0.        , 0.        , 0.        , 0.        ,\n",
      "        0.        , 0.        , 0.        , 0.        , 0.        ,\n",
      "        0.        , 0.        , 0.        , 0.        , 0.        ,\n",
      "        0.        , 0.        , 0.        , 0.        , 0.        ,\n",
      "        0.        , 0.        , 0.        , 0.23570226, 0.        ,\n",
      "        0.        , 0.        , 0.        , 0.        , 0.        ,\n",
      "        0.        , 0.        , 0.        , 0.        , 0.        ,\n",
      "        0.        , 0.        , 0.        , 0.        , 0.        ,\n",
      "        0.        , 0.        , 0.        , 0.        , 0.        ,\n",
      "        0.        , 0.        , 0.        , 0.        , 0.        ]])] \n",
      "\n"
     ]
    }
   ],
   "source": [
    "print(len(resume_vector))\n",
    "for i in resume_vector:\n",
    "    print(i,\"\\n\")"
   ]
  },
  {
   "cell_type": "code",
   "execution_count": 18,
   "metadata": {},
   "outputs": [
    {
     "name": "stdout",
     "output_type": "stream",
     "text": [
      "110\n",
      "110\n",
      "110\n",
      "110\n"
     ]
    }
   ],
   "source": [
    "for i in resume_vector:\n",
    "    samples = i\n",
    "    print(len(samples[0][0]))\n",
    "    \n",
    "    neigh = NearestNeighbors(n_neighbors=1)\n",
    "    neigh.fit(samples[0])\n",
    "    NearestNeighbors(algorithm='auto',leaf_size=30)\n",
    "    order_list_resume_score.extend(neigh.kneighbors(Job_desc_arr)[0][0].tolist())"
   ]
  },
  {
   "cell_type": "code",
   "execution_count": 19,
   "metadata": {},
   "outputs": [
    {
     "name": "stdout",
     "output_type": "stream",
     "text": [
      "Filename resume/Resume.pdf :\t Score: 1.0\n",
      "Filename resume/res.pdf :\t Score: 1.0\n",
      "Filename resume/Xander_Erwina Lau_Finance Compliance Executive.pdf :\t Score: 1.0\n",
      "Filename resume/Resume --Rohini Prakash.pdf :\t Score: 1.390423571519392\n"
     ]
    }
   ],
   "source": [
    "for i in range(len(order_list_resume_score)):\n",
    "    print(\"Filename {} :\\t Score: {}\".format(order_list_resume[i],order_list_resume_score[i]))"
   ]
  },
  {
   "cell_type": "code",
   "execution_count": 20,
   "metadata": {},
   "outputs": [
    {
     "name": "stdout",
     "output_type": "stream",
     "text": [
      "Rank 1 :\t resume/Resume.pdf\n",
      "Rank 2 :\t resume/Xander_Erwina Lau_Finance Compliance Executive.pdf\n",
      "Rank 3 :\t resume/res.pdf\n",
      "Rank 4 :\t resume/Resume --Rohini Prakash.pdf\n"
     ]
    }
   ],
   "source": [
    "Z = [x for _,x in sorted(zip(order_list_resume_score,order_list_resume))]\n",
    "flask_return = []\n",
    "\n",
    "for n,i in enumerate(Z):\n",
    "    name = getfilepath(i)\n",
    "#     print(i)\n",
    "        \n",
    "    rank = n+1\n",
    "    res = ResultElement(rank, name)\n",
    "    flask_return.append(res)\n",
    "    \n",
    "    print(\"Rank {} :\\t {}\".format(res.rank,res.filename))"
   ]
  },
  {
   "cell_type": "code",
   "execution_count": null,
   "metadata": {},
   "outputs": [],
   "source": []
  },
  {
   "cell_type": "code",
   "execution_count": null,
   "metadata": {},
   "outputs": [],
   "source": []
  }
 ],
 "metadata": {
  "kernelspec": {
   "display_name": "Python 3",
   "language": "python",
   "name": "python3"
  },
  "language_info": {
   "codemirror_mode": {
    "name": "ipython",
    "version": 3
   },
   "file_extension": ".py",
   "mimetype": "text/x-python",
   "name": "python",
   "nbconvert_exporter": "python",
   "pygments_lexer": "ipython3",
   "version": "3.6.8"
  }
 },
 "nbformat": 4,
 "nbformat_minor": 2
}
